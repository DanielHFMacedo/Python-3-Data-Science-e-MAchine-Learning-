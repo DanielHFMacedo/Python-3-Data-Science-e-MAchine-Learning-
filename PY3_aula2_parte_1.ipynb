{
  "nbformat": 4,
  "nbformat_minor": 0,
  "metadata": {
    "colab": {
      "name": "PY3_aula2_parte_1.ipynb",
      "provenance": [],
      "authorship_tag": "ABX9TyOmS6cRxtTMdvkC9tmHTe3c",
      "include_colab_link": true
    },
    "kernelspec": {
      "name": "python3",
      "display_name": "Python 3"
    },
    "language_info": {
      "name": "python"
    }
  },
  "cells": [
    {
      "cell_type": "markdown",
      "metadata": {
        "id": "view-in-github",
        "colab_type": "text"
      },
      "source": [
        "<a href=\"https://colab.research.google.com/github/DanielHFMacedo/Python-3-Data-Science-e-Machine-Learning-/blob/main/PY3_aula2_parte_1.ipynb\" target=\"_parent\"><img src=\"https://colab.research.google.com/assets/colab-badge.svg\" alt=\"Open In Colab\"/></a>"
      ]
    },
    {
      "cell_type": "code",
      "execution_count": null,
      "metadata": {
        "id": "4B1GhCHmLPFp"
      },
      "outputs": [],
      "source": [
        "# Pandas vem de Data Panel (Painel de dados), é uma biblioteca para tratamento de dados\n",
        "# Ela foi criada para ciência de dados diferentemente da biblioteca Numpy, cujo propósito é calculo numérico.\n",
        "# Para trabalhar com Pandas devemos conhecer muito bem Séries e DataFrames.\n"
      ]
    },
    {
      "cell_type": "code",
      "source": [
        "# Série é um objeto unidimensional, tipo um vetor, que contém um sequencia de objetos\n",
        "# serie=pd.Series(data, index=index)\n",
        "import pandas as pd\n",
        "import numpy as np\n",
        "\n",
        "serie1=pd.Series([10,9,8,2,5])\n",
        "print(serie1)"
      ],
      "metadata": {
        "colab": {
          "base_uri": "https://localhost:8080/"
        },
        "id": "D5PsPCFaN8Ot",
        "outputId": "8f8b408e-21da-4601-e31b-d8e343adcdfc"
      },
      "execution_count": 4,
      "outputs": [
        {
          "output_type": "stream",
          "name": "stdout",
          "text": [
            "0    10\n",
            "1     9\n",
            "2     8\n",
            "3     2\n",
            "4     5\n",
            "dtype: int64\n"
          ]
        }
      ]
    },
    {
      "cell_type": "code",
      "source": [
        "serie2=pd.Series([4,7,6,3],index=['a','b','c','d']) # Ao invés dos índices seremos numeros começando de zero, podemos usar letras ou nomes\n",
        "print(\"Serie 2:\\n\", serie2)\n",
        "print(\"Valor c da série 2: \",serie2['c'])  # Assim podemos acessar um valor da Série"
      ],
      "metadata": {
        "colab": {
          "base_uri": "https://localhost:8080/"
        },
        "id": "VdRCe036O0PN",
        "outputId": "c1de7aeb-c783-444f-d71c-b7e14fa98702"
      },
      "execution_count": 9,
      "outputs": [
        {
          "output_type": "stream",
          "name": "stdout",
          "text": [
            "Serie 2:\n",
            " a    4\n",
            "b    7\n",
            "c    6\n",
            "d    3\n",
            "dtype: int64\n",
            "Valor c da série 2:  6\n"
          ]
        }
      ]
    },
    {
      "cell_type": "code",
      "source": [
        "# DataFrames é um estrutura tabular que contém linhas e colunas"
      ],
      "metadata": {
        "id": "TXr10W_JP6PV"
      },
      "execution_count": null,
      "outputs": []
    },
    {
      "cell_type": "code",
      "source": [
        "# O que já sabemos ?\n",
        "serie1=np.array([10,9,8,2,5])\n",
        "print(\"Serie 1:\\n\",serie1)\n"
      ],
      "metadata": {
        "colab": {
          "base_uri": "https://localhost:8080/"
        },
        "id": "CglCmAPNRSEC",
        "outputId": "0236e3ee-d2d1-434c-f6d5-a96ec5426a79"
      },
      "execution_count": 15,
      "outputs": [
        {
          "output_type": "stream",
          "name": "stdout",
          "text": [
            "Serie 1:\n",
            " [10  9  8  2  5]\n"
          ]
        }
      ]
    },
    {
      "cell_type": "code",
      "source": [
        "serie2=pd.Series(np.random.rand(10), index=np.arange(1,11)) #Cria 10 números com valores de 0 a 1 e põe indices de 1 a 10\n",
        "print(\"Serie2:\\n\",serie2)"
      ],
      "metadata": {
        "colab": {
          "base_uri": "https://localhost:8080/"
        },
        "id": "wVQoq42USzhW",
        "outputId": "329a963d-dc83-43c3-c041-8ac2a2beb112"
      },
      "execution_count": 17,
      "outputs": [
        {
          "output_type": "stream",
          "name": "stdout",
          "text": [
            "Serie2:\n",
            " 1     0.881739\n",
            "2     0.400946\n",
            "3     0.259597\n",
            "4     0.069748\n",
            "5     0.093619\n",
            "6     0.832680\n",
            "7     0.554530\n",
            "8     0.140346\n",
            "9     0.674406\n",
            "10    0.660594\n",
            "dtype: float64\n"
          ]
        }
      ]
    },
    {
      "cell_type": "code",
      "source": [
        "serie2=pd.Series([True,7,6,3], index=[4.5,'b','c','d'])\n",
        "print(\"Serie2: \\n\", serie2)"
      ],
      "metadata": {
        "colab": {
          "base_uri": "https://localhost:8080/"
        },
        "id": "PJtgdPkMTfVX",
        "outputId": "8ccc6c71-74a4-4a58-9384-bf2f53700334"
      },
      "execution_count": 18,
      "outputs": [
        {
          "output_type": "stream",
          "name": "stdout",
          "text": [
            "Serie2: \n",
            " 4.5    True\n",
            "b         7\n",
            "c         6\n",
            "d         3\n",
            "dtype: object\n"
          ]
        }
      ]
    },
    {
      "cell_type": "code",
      "source": [
        "print(serie2['c'])\n",
        "print(serie2[4.5])"
      ],
      "metadata": {
        "colab": {
          "base_uri": "https://localhost:8080/"
        },
        "id": "tMX7BaEQUX6c",
        "outputId": "09a5d556-1a9e-4ed1-85c1-951aa5c9d466"
      },
      "execution_count": 19,
      "outputs": [
        {
          "output_type": "stream",
          "name": "stdout",
          "text": [
            "6\n",
            "True\n"
          ]
        }
      ]
    },
    {
      "cell_type": "code",
      "source": [
        "# Criando série a partir de um dicionário\n",
        "capitais={\n",
        "    'Pernambuco':'Recife',\n",
        "    'Paraíba':'João Pessoa',\n",
        "    'Ceará':'Fortaleza',\n",
        "    'Bahia':'Salvador',\n",
        "    'Alagoas':'Maceió'\n",
        "}\n",
        "print(type(capitais))"
      ],
      "metadata": {
        "colab": {
          "base_uri": "https://localhost:8080/"
        },
        "id": "SvT287MzUkva",
        "outputId": "34d2325c-b8f0-40a6-c8df-c34c7b0aab28"
      },
      "execution_count": 20,
      "outputs": [
        {
          "output_type": "stream",
          "name": "stdout",
          "text": [
            "<class 'dict'>\n"
          ]
        }
      ]
    },
    {
      "cell_type": "code",
      "source": [
        "serie3=pd.Series(capitais)\n",
        "print(\"Serie 3 : \\n\",serie3)\n",
        "print(\"Tipo da série 3:\\n\",type(serie3))"
      ],
      "metadata": {
        "colab": {
          "base_uri": "https://localhost:8080/"
        },
        "id": "BCOJ1E-QV1yr",
        "outputId": "55647a14-bb48-4f76-f502-42377a1f76d2"
      },
      "execution_count": 23,
      "outputs": [
        {
          "output_type": "stream",
          "name": "stdout",
          "text": [
            "Serie 3 : \n",
            " Pernambuco         Recife\n",
            "Paraíba       João Pessoa\n",
            "Ceará           Fortaleza\n",
            "Bahia            Salvador\n",
            "Alagoas            Maceió\n",
            "dtype: object\n",
            "Tipo da série 3:\n",
            " <class 'pandas.core.series.Series'>\n"
          ]
        }
      ]
    },
    {
      "cell_type": "code",
      "source": [
        "dictEmpresas={\n",
        "    'Apple':947.062,\n",
        "    'Google':819.573,\n",
        "    'Amazon':705.646,\n",
        "    'Microsoft':611.460,\n",
        "    'Tencent':214.023,\n",
        "    'McDonalds':196.526,\n",
        "    'Visa':191.062,\n",
        "    'Facebook':186.421,\n",
        "    'Alibaba':169.966,\n",
        "    'Louis Vuitton':124.273\n",
        "}\n"
      ],
      "metadata": {
        "id": "i8pD8_apWPlg"
      },
      "execution_count": 25,
      "outputs": []
    },
    {
      "cell_type": "code",
      "source": [
        "serie4=pd.Series(dictEmpresas)\n",
        "print(\"Serie4 :\\n\",serie4)"
      ],
      "metadata": {
        "colab": {
          "base_uri": "https://localhost:8080/"
        },
        "id": "g4VJ9vn4XoYU",
        "outputId": "990455c9-e828-4a8d-e628-bd927975dbc3"
      },
      "execution_count": 26,
      "outputs": [
        {
          "output_type": "stream",
          "name": "stdout",
          "text": [
            "Serie4 :\n",
            " Apple            947.062\n",
            "Google           819.573\n",
            "Amazon           705.646\n",
            "Microsoft        611.460\n",
            "Tencent          214.023\n",
            "McDonalds        196.526\n",
            "Visa             191.062\n",
            "Facebook         186.421\n",
            "Alibaba          169.966\n",
            "Louis Vuitton    124.273\n",
            "dtype: float64\n"
          ]
        }
      ]
    },
    {
      "cell_type": "code",
      "source": [
        "empresas=['Apple','Google','Amazon',\n",
        "          'Microsoft','Tencent','McDonalds',\n",
        "          'Visa','Facebook','Alibaba','Luis Vuitton']\n"
      ],
      "metadata": {
        "id": "vaLwrnKaYFTS"
      },
      "execution_count": 28,
      "outputs": []
    },
    {
      "cell_type": "code",
      "source": [
        "bilhoes=[947.062, 819.573, 705.646,\n",
        "         611.460, 214.023, 196.526,\n",
        "         191.062, 186.421, 169.966,\n",
        "         124.273]"
      ],
      "metadata": {
        "id": "YyBvkR0zYvXm"
      },
      "execution_count": 29,
      "outputs": []
    },
    {
      "cell_type": "code",
      "source": [
        "# Agora iremos criar uma série a partir das duas listas, processo equivalento a usar o dicionário da serie 4 anterior\n",
        "serie5=pd.Series(bilhoes,index=empresas)\n",
        "print(\"Serie 5:\\n\",serie5)"
      ],
      "metadata": {
        "colab": {
          "base_uri": "https://localhost:8080/"
        },
        "id": "cI9_bIjlZ7Qz",
        "outputId": "bdbb8af4-f8e4-48b8-b4c4-8d9bf593ff6a"
      },
      "execution_count": 30,
      "outputs": [
        {
          "output_type": "stream",
          "name": "stdout",
          "text": [
            "Serie 5:\n",
            " Apple           947.062\n",
            "Google          819.573\n",
            "Amazon          705.646\n",
            "Microsoft       611.460\n",
            "Tencent         214.023\n",
            "McDonalds       196.526\n",
            "Visa            191.062\n",
            "Facebook        186.421\n",
            "Alibaba         169.966\n",
            "Luis Vuitton    124.273\n",
            "dtype: float64\n"
          ]
        }
      ]
    },
    {
      "cell_type": "code",
      "source": [
        "# Vamos importar a biblioteca matplotlib para gráficos :\n",
        "import matplotlib.pyplot as plt\n",
        "serie5.plot()"
      ],
      "metadata": {
        "colab": {
          "base_uri": "https://localhost:8080/",
          "height": 283
        },
        "id": "Y9idy7-AaVj3",
        "outputId": "4b244a84-045e-47d5-c1bb-04c9c2053d8f"
      },
      "execution_count": 31,
      "outputs": [
        {
          "output_type": "execute_result",
          "data": {
            "text/plain": [
              "<matplotlib.axes._subplots.AxesSubplot at 0x7fea0333b5d0>"
            ]
          },
          "metadata": {},
          "execution_count": 31
        },
        {
          "output_type": "display_data",
          "data": {
            "text/plain": [
              "<Figure size 432x288 with 1 Axes>"
            ],
            "image/png": "[encoded data removed]"
          },
          "metadata": {
            "needs_background": "light"
          }
        }
      ]
    },
    {
      "cell_type": "code",
      "source": [
        "serie5.plot(kind='bar') # kind em inglês significa tipo, nesse caso estamos usando o gráfico de barra"
      ],
      "metadata": {
        "colab": {
          "base_uri": "https://localhost:8080/",
          "height": 332
        },
        "id": "lfltt1ErcB45",
        "outputId": "50fe384d-4a6e-4827-c883-58ac51144be6"
      },
      "execution_count": 32,
      "outputs": [
        {
          "output_type": "execute_result",
          "data": {
            "text/plain": [
              "<matplotlib.axes._subplots.AxesSubplot at 0x7fea02b10a10>"
            ]
          },
          "metadata": {},
          "execution_count": 32
        },
        {
          "output_type": "display_data",
          "data": {
            "text/plain": [
              "<Figure size 432x288 with 1 Axes>"
            ],
            "image/png": "[encoded data removed]"
          },
          "metadata": {
            "needs_background": "light"
          }
        }
      ]
    },
    {
      "cell_type": "code",
      "source": [],
      "metadata": {
        "id": "pzPvsTK-fQfc"
      },
      "execution_count": null,
      "outputs": []
    }
  ]
}