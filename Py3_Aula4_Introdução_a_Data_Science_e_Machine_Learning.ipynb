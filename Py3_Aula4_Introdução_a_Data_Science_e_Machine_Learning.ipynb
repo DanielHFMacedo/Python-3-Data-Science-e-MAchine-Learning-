{
  "nbformat": 4,
  "nbformat_minor": 0,
  "metadata": {
    "colab": {
      "provenance": [],
      "authorship_tag": "ABX9TyN+VCIyQPeDrvI9MbMqAR1H",
      "include_colab_link": true
    },
    "kernelspec": {
      "name": "python3",
      "display_name": "Python 3"
    },
    "language_info": {
      "name": "python"
    }
  },
  "cells": [
    {
      "cell_type": "markdown",
      "metadata": {
        "id": "view-in-github",
        "colab_type": "text"
      },
      "source": [
        "<a href=\"https://colab.research.google.com/github/DanielHFMacedo/Python-3-Data-Science-e-Machine-Learning-Prof-Camila-Dantas-Escola-Fuctura-de-Tecnologia/blob/main/Py3_Aula4_Introdu%C3%A7%C3%A3o_a_Data_Science_e_Machine_Learning.ipynb\" target=\"_parent\"><img src=\"https://colab.research.google.com/assets/colab-badge.svg\" alt=\"Open In Colab\"/></a>"
      ]
    },
    {
      "cell_type": "code",
      "execution_count": 2,
      "metadata": {
        "id": "YJzPFNfRwVUS"
      },
      "outputs": [],
      "source": [
        " #tossindo, espirrando, falta de ar e febre (Essas são as features, varáveis de interesse)\n",
        " # Vamos usar 0 ou 1 para não está doente ou está doente, variável de saída.\n",
        " \n",
        " gripado1=[1,1,1,1]\n",
        " gripado2=[0,1,0,1]\n",
        " gripado3=[1,1,0,0]\n",
        " gripado4=[1,1,0,1]\n",
        "\n",
        " alergico1=[1,1,0,0]\n",
        " alergico2=[0,1,0,0]\n",
        " alergico3=[1,0,1,0]\n",
        " alergico4=[0,1,1,0]\n"
      ]
    },
    {
      "cell_type": "code",
      "source": [
        "dados = [gripado1, gripado2, gripado3, gripado3, alergico1, alergico2, alergico3, alergico4]\n",
        "\n",
        "#categoria 1 = gripado, categoria 0 = alergico \n",
        "\n",
        "categoria=[1,1,1,1,0,0,0,0]\n",
        "\n"
      ],
      "metadata": {
        "id": "ToKdS29bMJ_r"
      },
      "execution_count": 3,
      "outputs": []
    },
    {
      "cell_type": "code",
      "source": [
        "from sklearn.svm import LinearSVC "
      ],
      "metadata": {
        "id": "uqB3By1eM0x7"
      },
      "execution_count": 6,
      "outputs": []
    },
    {
      "cell_type": "markdown",
      "source": [
        "**Rodando nosso treino**"
      ],
      "metadata": {
        "id": "cdqIcBl7NRS1"
      }
    },
    {
      "cell_type": "code",
      "source": [
        "modelo=LinearSVC()\n",
        "modelo.fit(dados, categoria)"
      ],
      "metadata": {
        "colab": {
          "base_uri": "https://localhost:8080/"
        },
        "id": "VxPEoMIdNVrI",
        "outputId": "c82d0eba-10de-497e-83fd-bec997e1d3cf"
      },
      "execution_count": 9,
      "outputs": [
        {
          "output_type": "execute_result",
          "data": {
            "text/plain": [
              "LinearSVC()"
            ]
          },
          "metadata": {},
          "execution_count": 9
        }
      ]
    },
    {
      "cell_type": "markdown",
      "source": [
        "**Definindo dados de teste**"
      ],
      "metadata": {
        "id": "JbEqv7VAN8Zj"
      }
    },
    {
      "cell_type": "code",
      "source": [
        "paciente1=[0,1,0,1]\n",
        "paciente2=[0,0,0,0]\n",
        "paciente3=[1,1,1,1]\n",
        "paciente4=[0,1,0,1]\n",
        "\n",
        "dados_teste = [paciente1, paciente2, paciente3, paciente4]"
      ],
      "metadata": {
        "id": "6sjH7b7iN--l"
      },
      "execution_count": 11,
      "outputs": []
    },
    {
      "cell_type": "markdown",
      "source": [
        "**Testando**"
      ],
      "metadata": {
        "id": "QgWJDfEjO2k8"
      }
    },
    {
      "cell_type": "code",
      "source": [
        "modelo.predict(dados_teste)"
      ],
      "metadata": {
        "colab": {
          "base_uri": "https://localhost:8080/"
        },
        "id": "3161HH-cO1nC",
        "outputId": "0b21c81f-bfa5-442e-c6ad-cd4d7c1ed2f7"
      },
      "execution_count": 12,
      "outputs": [
        {
          "output_type": "execute_result",
          "data": {
            "text/plain": [
              "array([1, 0, 1, 1])"
            ]
          },
          "metadata": {},
          "execution_count": 12
        }
      ]
    },
    {
      "cell_type": "markdown",
      "source": [
        "O resultado significa que o paciente 1, 3 e 4 tem gripe, apenas o 3 está alérgico."
      ],
      "metadata": {
        "id": "nDuFk0lNPKrN"
      }
    },
    {
      "cell_type": "code",
      "source": [
        "novo_paciente=[0,1,0,0]\n",
        "modelo.predict([novo_paciente])"
      ],
      "metadata": {
        "colab": {
          "base_uri": "https://localhost:8080/"
        },
        "id": "uzBvM3hUPSJ6",
        "outputId": "59f4eaa6-1ff4-42a4-b86b-57e78c3af987"
      },
      "execution_count": 13,
      "outputs": [
        {
          "output_type": "execute_result",
          "data": {
            "text/plain": [
              "array([0])"
            ]
          },
          "metadata": {},
          "execution_count": 13
        }
      ]
    },
    {
      "cell_type": "code",
      "source": [
        "if(modelo.predict([novo_paciente])==0):\n",
        "  print(\"Paciente potencialmente alérgico.\")\n",
        "else:\n",
        "  print(\"Paciente potencialmente gripado.\")"
      ],
      "metadata": {
        "colab": {
          "base_uri": "https://localhost:8080/"
        },
        "id": "spsswqzrQeTZ",
        "outputId": "a53ade2d-b448-4016-e644-bf1d935abca3"
      },
      "execution_count": 14,
      "outputs": [
        {
          "output_type": "stream",
          "name": "stdout",
          "text": [
            "Paciente potencialmente alérgico.\n"
          ]
        }
      ]
    },
    {
      "cell_type": "markdown",
      "source": [
        "Vamos salvar a aplicação do nosso modelo sobre os dados de teste na varável predições."
      ],
      "metadata": {
        "id": "U4YqyHARRCgc"
      }
    },
    {
      "cell_type": "code",
      "source": [
        "predicoes = modelo.predict(dados_teste)"
      ],
      "metadata": {
        "id": "xWow68WSQxyM"
      },
      "execution_count": 17,
      "outputs": []
    },
    {
      "cell_type": "code",
      "source": [
        "# Vamos supor que temos casos com exames que confirmam o seguinte\n",
        "# o seguinte sobre os pacientes terem gripe ou não\n",
        "# Vamos comparar nosso modelo com a realidade "
      ],
      "metadata": {
        "id": "Hare8f0PRUGH"
      },
      "execution_count": 16,
      "outputs": []
    },
    {
      "cell_type": "code",
      "source": [
        "exames = [1,0,1,0]"
      ],
      "metadata": {
        "id": "JcyV4l29Rf1U"
      },
      "execution_count": 18,
      "outputs": []
    },
    {
      "cell_type": "code",
      "source": [
        "predicoes==exames"
      ],
      "metadata": {
        "colab": {
          "base_uri": "https://localhost:8080/"
        },
        "id": "DFUScj-qRr_b",
        "outputId": "308216cd-32f1-4aa1-ac54-a1a2b03b6452"
      },
      "execution_count": 19,
      "outputs": [
        {
          "output_type": "execute_result",
          "data": {
            "text/plain": [
              "array([ True,  True,  True, False])"
            ]
          },
          "metadata": {},
          "execution_count": 19
        }
      ]
    },
    {
      "cell_type": "code",
      "source": [
        "# Total de acertos do nosso modelo:\n",
        "total_acertos = (predicoes==exames).sum()\n",
        "total_acertos"
      ],
      "metadata": {
        "colab": {
          "base_uri": "https://localhost:8080/"
        },
        "id": "3WeOQoF9R-ow",
        "outputId": "3224f697-cf30-49b2-daeb-93f2e0938f35"
      },
      "execution_count": 20,
      "outputs": [
        {
          "output_type": "execute_result",
          "data": {
            "text/plain": [
              "3"
            ]
          },
          "metadata": {},
          "execution_count": 20
        }
      ]
    },
    {
      "cell_type": "code",
      "source": [
        "total_predicoes = len(dados_teste)\n",
        "total_predicoes"
      ],
      "metadata": {
        "colab": {
          "base_uri": "https://localhost:8080/"
        },
        "id": "wYIksboiSopT",
        "outputId": "3d2129eb-fffe-4c53-8d75-210c26e6d0ef"
      },
      "execution_count": 21,
      "outputs": [
        {
          "output_type": "execute_result",
          "data": {
            "text/plain": [
              "4"
            ]
          },
          "metadata": {},
          "execution_count": 21
        }
      ]
    },
    {
      "cell_type": "code",
      "source": [
        "# Qual foi a taca de sucesso ?\n",
        "taxa_sucesso = total_acertos / total_predicoes*100\n",
        "taxa_sucesso"
      ],
      "metadata": {
        "colab": {
          "base_uri": "https://localhost:8080/"
        },
        "id": "w0TXCAaBT-6C",
        "outputId": "4b207ad9-6f3e-4f33-b097-0520c98d911f"
      },
      "execution_count": 23,
      "outputs": [
        {
          "output_type": "execute_result",
          "data": {
            "text/plain": [
              "75.0"
            ]
          },
          "metadata": {},
          "execution_count": 23
        }
      ]
    },
    {
      "cell_type": "code",
      "source": [
        "# Para situações mais complexas, usaremos o accuracy score:\n",
        "from sklearn.metrics import accuracy_score\n",
        "taxa_sucesso = accuracy_score(total_acertos / total_predicoes)"
      ],
      "metadata": {
        "id": "cEVu9_v7Ubx2",
        "outputId": "baed5263-ca20-48dd-a50f-0b4b3cd61cae",
        "colab": {
          "base_uri": "https://localhost:8080/",
          "height": 208
        }
      },
      "execution_count": 26,
      "outputs": [
        {
          "output_type": "error",
          "ename": "TypeError",
          "evalue": "ignored",
          "traceback": [
            "\u001b[0;31m---------------------------------------------------------------------------\u001b[0m",
            "\u001b[0;31mTypeError\u001b[0m                                 Traceback (most recent call last)",
            "\u001b[0;32m<ipython-input-26-41c4b59f0518>\u001b[0m in \u001b[0;36m<module>\u001b[0;34m\u001b[0m\n\u001b[1;32m      1\u001b[0m \u001b[0;31m# Para situações mais complexas, usaremos o accuracy score:\u001b[0m\u001b[0;34m\u001b[0m\u001b[0;34m\u001b[0m\u001b[0;34m\u001b[0m\u001b[0m\n\u001b[1;32m      2\u001b[0m \u001b[0;32mfrom\u001b[0m \u001b[0msklearn\u001b[0m\u001b[0;34m.\u001b[0m\u001b[0mmetrics\u001b[0m \u001b[0;32mimport\u001b[0m \u001b[0maccuracy_score\u001b[0m\u001b[0;34m\u001b[0m\u001b[0;34m\u001b[0m\u001b[0m\n\u001b[0;32m----> 3\u001b[0;31m \u001b[0mtaxa_sucesso\u001b[0m \u001b[0;34m=\u001b[0m \u001b[0maccuracy_score\u001b[0m\u001b[0;34m(\u001b[0m\u001b[0mtotal_acertos\u001b[0m \u001b[0;34m/\u001b[0m \u001b[0mtotal_predicoes\u001b[0m\u001b[0;34m)\u001b[0m\u001b[0;34m\u001b[0m\u001b[0;34m\u001b[0m\u001b[0m\n\u001b[0m",
            "\u001b[0;31mTypeError\u001b[0m: accuracy_score() missing 1 required positional argument: 'y_pred'"
          ]
        }
      ]
    },
    {
      "cell_type": "code",
      "source": [],
      "metadata": {
        "id": "ZpD_zQwRU3CO"
      },
      "execution_count": null,
      "outputs": []
    }
  ]
}