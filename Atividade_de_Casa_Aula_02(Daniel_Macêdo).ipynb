{
  "nbformat": 4,
  "nbformat_minor": 0,
  "metadata": {
    "colab": {
      "provenance": [],
      "include_colab_link": true
    },
    "kernelspec": {
      "name": "python3",
      "display_name": "Python 3"
    },
    "language_info": {
      "name": "python"
    }
  },
  "cells": [
    {
      "cell_type": "markdown",
      "metadata": {
        "id": "view-in-github",
        "colab_type": "text"
      },
      "source": [
        "<a href=\"https://colab.research.google.com/github/DanielHFMacedo/Python-3-Data-Science-e-Machine-Learning-/blob/main/Atividade_de_Casa_Aula_02(Daniel_Mac%C3%AAdo).ipynb\" target=\"_parent\"><img src=\"https://colab.research.google.com/assets/colab-badge.svg\" alt=\"Open In Colab\"/></a>"
      ]
    },
    {
      "cell_type": "code",
      "execution_count": 2,
      "metadata": {
        "id": "haofwNFHTOwu"
      },
      "outputs": [],
      "source": [
        "import pandas as pd\n",
        "import numpy as np\n",
        "import matplotlib.pyplot as plt"
      ]
    },
    {
      "cell_type": "code",
      "source": [
        "#Dados obtidos por requisição de url disponível no site http://dados.recife.pe.gov.br/tl/dataset/relacao-de-pessoas-vacinadas-covid-19/resource/966e9c4c-df45-40d7-9c58-2f13c61a6d28 \n",
        "\n",
        "df = pd.read_csv('http://dados.recife.pe.gov.br/dataset/f381d9ea-4839-44a6-b4fe-788239189900/resource/966e9c4c-df45-40d7-9c58-2f13c61a6d28/download/vacinados.csv', sep=\";\")"
      ],
      "metadata": {
        "id": "nx62qgP0Teii"
      },
      "execution_count": 3,
      "outputs": []
    },
    {
      "cell_type": "code",
      "source": [
        "type(df) # é um dataframe"
      ],
      "metadata": {
        "colab": {
          "base_uri": "https://localhost:8080/"
        },
        "id": "Mzm8iBbUpsNg",
        "outputId": "56a487aa-6971-4250-954f-ca6727dbeec4"
      },
      "execution_count": 11,
      "outputs": [
        {
          "output_type": "execute_result",
          "data": {
            "text/plain": [
              "pandas.core.frame.DataFrame"
            ]
          },
          "metadata": {},
          "execution_count": 11
        }
      ]
    },
    {
      "cell_type": "code",
      "source": [
        "df.head() # Imprime as 5 primeiras linhas do dataframe para ter uma visão geral dos dados."
      ],
      "metadata": {
        "id": "kaBJhFK5OF-V",
        "colab": {
          "base_uri": "https://localhost:8080/",
          "height": 458
        },
        "outputId": "1b4e53e8-8804-4e72-8f03-a6c07390ed3e"
      },
      "execution_count": 4,
      "outputs": [
        {
          "output_type": "execute_result",
          "data": {
            "text/plain": [
              "              cpf                           nome       sexo  \\\n",
              "0  ***.574.544-**      AABAN VASCONCELOS ZYZZYAG  MASCULINO   \n",
              "1  ***.574.544-**      AABAN VASCONCELOS ZYZZYAG  MASCULINO   \n",
              "2  ***.886.964-**  AAMANDA MARIA FREIRE DA SILVA   FEMININO   \n",
              "3  ***.886.964-**  AAMANDA MARIA FREIRE DA SILVA   FEMININO   \n",
              "4  ***.886.964-**  AAMANDA MARIA FREIRE DA SILVA   FEMININO   \n",
              "\n",
              "                                   grupo  \\\n",
              "0  TRABALHADORES INDUSTRIAIS E BANCÁRIOS   \n",
              "1  TRABALHADORES INDUSTRIAIS E BANCÁRIOS   \n",
              "2                 TRABALHADORES DA SAÚDE   \n",
              "3                 TRABALHADORES DA SAÚDE   \n",
              "4                 TRABALHADORES DA SAÚDE   \n",
              "\n",
              "                                              vacina         lote  dose  \\\n",
              "0  2 - CHADOX1NCOV-19 - OXFORD/ASTRAZENECA (FIOCRUZ)  219VCD270W    2.0   \n",
              "1  2 - CHADOX1NCOV-19 - OXFORD/ASTRAZENECA (FIOCRUZ)   216VCD206Z   1.0   \n",
              "2                 1 - CORONAVAC - SINOVAC (BUTANTAN)       210043   2.0   \n",
              "3                 1 - CORONAVAC - SINOVAC (BUTANTAN)       210016   1.0   \n",
              "4                             3 - COMIRNATY (PFIZER)      32010BD   3.0   \n",
              "\n",
              "  data_vacinacao                           local_vacinacao  \n",
              "0     2021-10-19            DRIVE THRU PARQUE DE EXPOSIÇÃO  \n",
              "1     2021-07-26            DRIVE THRU PARQUE DE EXPOSIÇÃO  \n",
              "2     2021-03-04   CENTRO DE VACINAÇÃO PARQUE DE EXPOSIÇÃO  \n",
              "3     2021-02-11  CENTRO DE VACINAÇÃO COMPAZ MIGUEL ARRAES  \n",
              "4     2021-10-07             CENTRO DE VACINAÇÃO UNINASSAU  "
            ],
            "text/html": [
              "\n",
              "  <div id=\"df-2da825c9-3ef1-4ee5-a4fc-2c798c29af18\">\n",
              "    <div class=\"colab-df-container\">\n",
              "      <div>\n",
              "<style scoped>\n",
              "    .dataframe tbody tr th:only-of-type {\n",
              "        vertical-align: middle;\n",
              "    }\n",
              "\n",
              "    .dataframe tbody tr th {\n",
              "        vertical-align: top;\n",
              "    }\n",
              "\n",
              "    .dataframe thead th {\n",
              "        text-align: right;\n",
              "    }\n",
              "</style>\n",
              "<table border=\"1\" class=\"dataframe\">\n",
              "  <thead>\n",
              "    <tr style=\"text-align: right;\">\n",
              "      <th></th>\n",
              "      <th>cpf</th>\n",
              "      <th>nome</th>\n",
              "      <th>sexo</th>\n",
              "      <th>grupo</th>\n",
              "      <th>vacina</th>\n",
              "      <th>lote</th>\n",
              "      <th>dose</th>\n",
              "      <th>data_vacinacao</th>\n",
              "      <th>local_vacinacao</th>\n",
              "    </tr>\n",
              "  </thead>\n",
              "  <tbody>\n",
              "    <tr>\n",
              "      <th>0</th>\n",
              "      <td>***.574.544-**</td>\n",
              "      <td>AABAN VASCONCELOS ZYZZYAG</td>\n",
              "      <td>MASCULINO</td>\n",
              "      <td>TRABALHADORES INDUSTRIAIS E BANCÁRIOS</td>\n",
              "      <td>2 - CHADOX1NCOV-19 - OXFORD/ASTRAZENECA (FIOCRUZ)</td>\n",
              "      <td>219VCD270W</td>\n",
              "      <td>2.0</td>\n",
              "      <td>2021-10-19</td>\n",
              "      <td>DRIVE THRU PARQUE DE EXPOSIÇÃO</td>\n",
              "    </tr>\n",
              "    <tr>\n",
              "      <th>1</th>\n",
              "      <td>***.574.544-**</td>\n",
              "      <td>AABAN VASCONCELOS ZYZZYAG</td>\n",
              "      <td>MASCULINO</td>\n",
              "      <td>TRABALHADORES INDUSTRIAIS E BANCÁRIOS</td>\n",
              "      <td>2 - CHADOX1NCOV-19 - OXFORD/ASTRAZENECA (FIOCRUZ)</td>\n",
              "      <td>216VCD206Z</td>\n",
              "      <td>1.0</td>\n",
              "      <td>2021-07-26</td>\n",
              "      <td>DRIVE THRU PARQUE DE EXPOSIÇÃO</td>\n",
              "    </tr>\n",
              "    <tr>\n",
              "      <th>2</th>\n",
              "      <td>***.886.964-**</td>\n",
              "      <td>AAMANDA MARIA FREIRE DA SILVA</td>\n",
              "      <td>FEMININO</td>\n",
              "      <td>TRABALHADORES DA SAÚDE</td>\n",
              "      <td>1 - CORONAVAC - SINOVAC (BUTANTAN)</td>\n",
              "      <td>210043</td>\n",
              "      <td>2.0</td>\n",
              "      <td>2021-03-04</td>\n",
              "      <td>CENTRO DE VACINAÇÃO PARQUE DE EXPOSIÇÃO</td>\n",
              "    </tr>\n",
              "    <tr>\n",
              "      <th>3</th>\n",
              "      <td>***.886.964-**</td>\n",
              "      <td>AAMANDA MARIA FREIRE DA SILVA</td>\n",
              "      <td>FEMININO</td>\n",
              "      <td>TRABALHADORES DA SAÚDE</td>\n",
              "      <td>1 - CORONAVAC - SINOVAC (BUTANTAN)</td>\n",
              "      <td>210016</td>\n",
              "      <td>1.0</td>\n",
              "      <td>2021-02-11</td>\n",
              "      <td>CENTRO DE VACINAÇÃO COMPAZ MIGUEL ARRAES</td>\n",
              "    </tr>\n",
              "    <tr>\n",
              "      <th>4</th>\n",
              "      <td>***.886.964-**</td>\n",
              "      <td>AAMANDA MARIA FREIRE DA SILVA</td>\n",
              "      <td>FEMININO</td>\n",
              "      <td>TRABALHADORES DA SAÚDE</td>\n",
              "      <td>3 - COMIRNATY (PFIZER)</td>\n",
              "      <td>32010BD</td>\n",
              "      <td>3.0</td>\n",
              "      <td>2021-10-07</td>\n",
              "      <td>CENTRO DE VACINAÇÃO UNINASSAU</td>\n",
              "    </tr>\n",
              "  </tbody>\n",
              "</table>\n",
              "</div>\n",
              "      <button class=\"colab-df-convert\" onclick=\"convertToInteractive('df-2da825c9-3ef1-4ee5-a4fc-2c798c29af18')\"\n",
              "              title=\"Convert this dataframe to an interactive table.\"\n",
              "              style=\"display:none;\">\n",
              "        \n",
              "  <svg xmlns=\"http://www.w3.org/2000/svg\" height=\"24px\"viewBox=\"0 0 24 24\"\n",
              "       width=\"24px\">\n",
              "    <path d=\"M0 0h24v24H0V0z\" fill=\"none\"/>\n",
              "    <path d=\"M18.56 5.44l.94 2.06.94-2.06 2.06-.94-2.06-.94-.94-2.06-.94 2.06-2.06.94zm-11 1L8.5 8.5l.94-2.06 2.06-.94-2.06-.94L8.5 2.5l-.94 2.06-2.06.94zm10 10l.94 2.06.94-2.06 2.06-.94-2.06-.94-.94-2.06-.94 2.06-2.06.94z\"/><path d=\"M17.41 7.96l-1.37-1.37c-.4-.4-.92-.59-1.43-.59-.52 0-1.04.2-1.43.59L10.3 9.45l-7.72 7.72c-.78.78-.78 2.05 0 2.83L4 21.41c.39.39.9.59 1.41.59.51 0 1.02-.2 1.41-.59l7.78-7.78 2.81-2.81c.8-.78.8-2.07 0-2.86zM5.41 20L4 18.59l7.72-7.72 1.47 1.35L5.41 20z\"/>\n",
              "  </svg>\n",
              "      </button>\n",
              "      \n",
              "  <style>\n",
              "    .colab-df-container {\n",
              "      display:flex;\n",
              "      flex-wrap:wrap;\n",
              "      gap: 12px;\n",
              "    }\n",
              "\n",
              "    .colab-df-convert {\n",
              "      background-color: #E8F0FE;\n",
              "      border: none;\n",
              "      border-radius: 50%;\n",
              "      cursor: pointer;\n",
              "      display: none;\n",
              "      fill: #1967D2;\n",
              "      height: 32px;\n",
              "      padding: 0 0 0 0;\n",
              "      width: 32px;\n",
              "    }\n",
              "\n",
              "    .colab-df-convert:hover {\n",
              "      background-color: #E2EBFA;\n",
              "      box-shadow: 0px 1px 2px rgba(60, 64, 67, 0.3), 0px 1px 3px 1px rgba(60, 64, 67, 0.15);\n",
              "      fill: #174EA6;\n",
              "    }\n",
              "\n",
              "    [theme=dark] .colab-df-convert {\n",
              "      background-color: #3B4455;\n",
              "      fill: #D2E3FC;\n",
              "    }\n",
              "\n",
              "    [theme=dark] .colab-df-convert:hover {\n",
              "      background-color: #434B5C;\n",
              "      box-shadow: 0px 1px 3px 1px rgba(0, 0, 0, 0.15);\n",
              "      filter: drop-shadow(0px 1px 2px rgba(0, 0, 0, 0.3));\n",
              "      fill: #FFFFFF;\n",
              "    }\n",
              "  </style>\n",
              "\n",
              "      <script>\n",
              "        const buttonEl =\n",
              "          document.querySelector('#df-2da825c9-3ef1-4ee5-a4fc-2c798c29af18 button.colab-df-convert');\n",
              "        buttonEl.style.display =\n",
              "          google.colab.kernel.accessAllowed ? 'block' : 'none';\n",
              "\n",
              "        async function convertToInteractive(key) {\n",
              "          const element = document.querySelector('#df-2da825c9-3ef1-4ee5-a4fc-2c798c29af18');\n",
              "          const dataTable =\n",
              "            await google.colab.kernel.invokeFunction('convertToInteractive',\n",
              "                                                     [key], {});\n",
              "          if (!dataTable) return;\n",
              "\n",
              "          const docLinkHtml = 'Like what you see? Visit the ' +\n",
              "            '<a target=\"_blank\" href=https://colab.research.google.com/notebooks/data_table.ipynb>data table notebook</a>'\n",
              "            + ' to learn more about interactive tables.';\n",
              "          element.innerHTML = '';\n",
              "          dataTable['output_type'] = 'display_data';\n",
              "          await google.colab.output.renderOutput(dataTable, element);\n",
              "          const docLink = document.createElement('div');\n",
              "          docLink.innerHTML = docLinkHtml;\n",
              "          element.appendChild(docLink);\n",
              "        }\n",
              "      </script>\n",
              "    </div>\n",
              "  </div>\n",
              "  "
            ]
          },
          "metadata": {},
          "execution_count": 4
        }
      ]
    },
    {
      "cell_type": "code",
      "source": [
        "df.shape # Imprime as dimensões do dataframe, observamos que temos 9 colunas e 3407298 linhas."
      ],
      "metadata": {
        "colab": {
          "base_uri": "https://localhost:8080/"
        },
        "id": "w4y1S1OUOxKt",
        "outputId": "df29e116-c712-4a0d-c762-a6bed16c9c30"
      },
      "execution_count": 5,
      "outputs": [
        {
          "output_type": "execute_result",
          "data": {
            "text/plain": [
              "(3407298, 9)"
            ]
          },
          "metadata": {},
          "execution_count": 5
        }
      ]
    },
    {
      "cell_type": "code",
      "source": [
        "df.describe()"
      ],
      "metadata": {
        "colab": {
          "base_uri": "https://localhost:8080/",
          "height": 300
        },
        "id": "ApV5MKA0O0mA",
        "outputId": "74bf8f57-e46b-498b-8369-2d1e38f3385a"
      },
      "execution_count": null,
      "outputs": [
        {
          "output_type": "execute_result",
          "data": {
            "text/plain": [
              "               dose\n",
              "count  3.407297e+06\n",
              "mean   1.723100e+00\n",
              "std    7.341606e-01\n",
              "min    1.000000e+00\n",
              "25%    1.000000e+00\n",
              "50%    2.000000e+00\n",
              "75%    2.000000e+00\n",
              "max    4.000000e+00"
            ],
            "text/html": [
              "\n",
              "  <div id=\"df-40eb7b87-5e1d-414d-80bb-7c1caa3d3733\">\n",
              "    <div class=\"colab-df-container\">\n",
              "      <div>\n",
              "<style scoped>\n",
              "    .dataframe tbody tr th:only-of-type {\n",
              "        vertical-align: middle;\n",
              "    }\n",
              "\n",
              "    .dataframe tbody tr th {\n",
              "        vertical-align: top;\n",
              "    }\n",
              "\n",
              "    .dataframe thead th {\n",
              "        text-align: right;\n",
              "    }\n",
              "</style>\n",
              "<table border=\"1\" class=\"dataframe\">\n",
              "  <thead>\n",
              "    <tr style=\"text-align: right;\">\n",
              "      <th></th>\n",
              "      <th>dose</th>\n",
              "    </tr>\n",
              "  </thead>\n",
              "  <tbody>\n",
              "    <tr>\n",
              "      <th>count</th>\n",
              "      <td>3.407297e+06</td>\n",
              "    </tr>\n",
              "    <tr>\n",
              "      <th>mean</th>\n",
              "      <td>1.723100e+00</td>\n",
              "    </tr>\n",
              "    <tr>\n",
              "      <th>std</th>\n",
              "      <td>7.341606e-01</td>\n",
              "    </tr>\n",
              "    <tr>\n",
              "      <th>min</th>\n",
              "      <td>1.000000e+00</td>\n",
              "    </tr>\n",
              "    <tr>\n",
              "      <th>25%</th>\n",
              "      <td>1.000000e+00</td>\n",
              "    </tr>\n",
              "    <tr>\n",
              "      <th>50%</th>\n",
              "      <td>2.000000e+00</td>\n",
              "    </tr>\n",
              "    <tr>\n",
              "      <th>75%</th>\n",
              "      <td>2.000000e+00</td>\n",
              "    </tr>\n",
              "    <tr>\n",
              "      <th>max</th>\n",
              "      <td>4.000000e+00</td>\n",
              "    </tr>\n",
              "  </tbody>\n",
              "</table>\n",
              "</div>\n",
              "      <button class=\"colab-df-convert\" onclick=\"convertToInteractive('df-40eb7b87-5e1d-414d-80bb-7c1caa3d3733')\"\n",
              "              title=\"Convert this dataframe to an interactive table.\"\n",
              "              style=\"display:none;\">\n",
              "        \n",
              "  <svg xmlns=\"http://www.w3.org/2000/svg\" height=\"24px\"viewBox=\"0 0 24 24\"\n",
              "       width=\"24px\">\n",
              "    <path d=\"M0 0h24v24H0V0z\" fill=\"none\"/>\n",
              "    <path d=\"M18.56 5.44l.94 2.06.94-2.06 2.06-.94-2.06-.94-.94-2.06-.94 2.06-2.06.94zm-11 1L8.5 8.5l.94-2.06 2.06-.94-2.06-.94L8.5 2.5l-.94 2.06-2.06.94zm10 10l.94 2.06.94-2.06 2.06-.94-2.06-.94-.94-2.06-.94 2.06-2.06.94z\"/><path d=\"M17.41 7.96l-1.37-1.37c-.4-.4-.92-.59-1.43-.59-.52 0-1.04.2-1.43.59L10.3 9.45l-7.72 7.72c-.78.78-.78 2.05 0 2.83L4 21.41c.39.39.9.59 1.41.59.51 0 1.02-.2 1.41-.59l7.78-7.78 2.81-2.81c.8-.78.8-2.07 0-2.86zM5.41 20L4 18.59l7.72-7.72 1.47 1.35L5.41 20z\"/>\n",
              "  </svg>\n",
              "      </button>\n",
              "      \n",
              "  <style>\n",
              "    .colab-df-container {\n",
              "      display:flex;\n",
              "      flex-wrap:wrap;\n",
              "      gap: 12px;\n",
              "    }\n",
              "\n",
              "    .colab-df-convert {\n",
              "      background-color: #E8F0FE;\n",
              "      border: none;\n",
              "      border-radius: 50%;\n",
              "      cursor: pointer;\n",
              "      display: none;\n",
              "      fill: #1967D2;\n",
              "      height: 32px;\n",
              "      padding: 0 0 0 0;\n",
              "      width: 32px;\n",
              "    }\n",
              "\n",
              "    .colab-df-convert:hover {\n",
              "      background-color: #E2EBFA;\n",
              "      box-shadow: 0px 1px 2px rgba(60, 64, 67, 0.3), 0px 1px 3px 1px rgba(60, 64, 67, 0.15);\n",
              "      fill: #174EA6;\n",
              "    }\n",
              "\n",
              "    [theme=dark] .colab-df-convert {\n",
              "      background-color: #3B4455;\n",
              "      fill: #D2E3FC;\n",
              "    }\n",
              "\n",
              "    [theme=dark] .colab-df-convert:hover {\n",
              "      background-color: #434B5C;\n",
              "      box-shadow: 0px 1px 3px 1px rgba(0, 0, 0, 0.15);\n",
              "      filter: drop-shadow(0px 1px 2px rgba(0, 0, 0, 0.3));\n",
              "      fill: #FFFFFF;\n",
              "    }\n",
              "  </style>\n",
              "\n",
              "      <script>\n",
              "        const buttonEl =\n",
              "          document.querySelector('#df-40eb7b87-5e1d-414d-80bb-7c1caa3d3733 button.colab-df-convert');\n",
              "        buttonEl.style.display =\n",
              "          google.colab.kernel.accessAllowed ? 'block' : 'none';\n",
              "\n",
              "        async function convertToInteractive(key) {\n",
              "          const element = document.querySelector('#df-40eb7b87-5e1d-414d-80bb-7c1caa3d3733');\n",
              "          const dataTable =\n",
              "            await google.colab.kernel.invokeFunction('convertToInteractive',\n",
              "                                                     [key], {});\n",
              "          if (!dataTable) return;\n",
              "\n",
              "          const docLinkHtml = 'Like what you see? Visit the ' +\n",
              "            '<a target=\"_blank\" href=https://colab.research.google.com/notebooks/data_table.ipynb>data table notebook</a>'\n",
              "            + ' to learn more about interactive tables.';\n",
              "          element.innerHTML = '';\n",
              "          dataTable['output_type'] = 'display_data';\n",
              "          await google.colab.output.renderOutput(dataTable, element);\n",
              "          const docLink = document.createElement('div');\n",
              "          docLink.innerHTML = docLinkHtml;\n",
              "          element.appendChild(docLink);\n",
              "        }\n",
              "      </script>\n",
              "    </div>\n",
              "  </div>\n",
              "  "
            ]
          },
          "metadata": {},
          "execution_count": 6
        }
      ]
    },
    {
      "cell_type": "code",
      "source": [
        "df.isnull().sum() # mostra a quantidade de valores nulos em cada coluna."
      ],
      "metadata": {
        "colab": {
          "base_uri": "https://localhost:8080/"
        },
        "id": "U2hRlMcRPnpv",
        "outputId": "8dac480b-e1a6-4b22-95fa-b47d0addb71a"
      },
      "execution_count": 6,
      "outputs": [
        {
          "output_type": "execute_result",
          "data": {
            "text/plain": [
              "cpf                4060\n",
              "nome                  1\n",
              "sexo                256\n",
              "grupo                 1\n",
              "vacina                1\n",
              "lote                 94\n",
              "dose                  1\n",
              "data_vacinacao        1\n",
              "local_vacinacao       1\n",
              "dtype: int64"
            ]
          },
          "metadata": {},
          "execution_count": 6
        }
      ]
    },
    {
      "cell_type": "code",
      "source": [
        "df_sexo=df['sexo'] # Cria um novo dataframe com apenas a linha do gênero das pessoas"
      ],
      "metadata": {
        "id": "-7gguKtGQLP2"
      },
      "execution_count": 7,
      "outputs": []
    },
    {
      "cell_type": "code",
      "source": [
        "type(df_sexo) #como é apenas uma coluna então o tipo fica como Serie"
      ],
      "metadata": {
        "colab": {
          "base_uri": "https://localhost:8080/"
        },
        "id": "UQCGu8FYpUv6",
        "outputId": "f35f585e-ce24-4fb3-c05a-fae71c082161"
      },
      "execution_count": 10,
      "outputs": [
        {
          "output_type": "execute_result",
          "data": {
            "text/plain": [
              "pandas.core.series.Series"
            ]
          },
          "metadata": {},
          "execution_count": 10
        }
      ]
    },
    {
      "cell_type": "code",
      "source": [
        "df_sexo.value_counts() # Mostra quantidade de categorias seguido do número de objetos nessa categoria. temos 3 categorias para gênero."
      ],
      "metadata": {
        "colab": {
          "base_uri": "https://localhost:8080/"
        },
        "id": "EXnyujvsrqQ_",
        "outputId": "98215c02-0bdb-4910-c02c-1d10723affba"
      },
      "execution_count": 16,
      "outputs": [
        {
          "output_type": "execute_result",
          "data": {
            "text/plain": [
              "FEMININO     1941977\n",
              "MASCULINO    1460003\n",
              "OUTROS          5062\n",
              "Name: sexo, dtype: int64"
            ]
          },
          "metadata": {},
          "execution_count": 16
        }
      ]
    },
    {
      "cell_type": "code",
      "source": [
        "df_sexo.value_counts().plot(kind='pie')"
      ],
      "metadata": {
        "colab": {
          "base_uri": "https://localhost:8080/",
          "height": 266
        },
        "id": "qlef8-zewjIJ",
        "outputId": "15b63675-b54f-499d-e488-44debbd7833e"
      },
      "execution_count": 28,
      "outputs": [
        {
          "output_type": "execute_result",
          "data": {
            "text/plain": [
              "<matplotlib.axes._subplots.AxesSubplot at 0x7f264f6b1c90>"
            ]
          },
          "metadata": {},
          "execution_count": 28
        },
        {
          "output_type": "display_data",
          "data": {
            "text/plain": [
              "<Figure size 432x288 with 1 Axes>"
            ],
            "image/png": "[encoded data removed]"
          },
          "metadata": {}
        }
      ]
    },
    {
      "cell_type": "code",
      "source": [
        "df_vacina=df['vacina']"
      ],
      "metadata": {
        "id": "goS18Hrup1b3"
      },
      "execution_count": 15,
      "outputs": []
    },
    {
      "cell_type": "code",
      "source": [
        "df_vacina.value_counts() # Nessa serie temos 6 categorias de vacina "
      ],
      "metadata": {
        "colab": {
          "base_uri": "https://localhost:8080/"
        },
        "id": "Nj0kL1o0rzVY",
        "outputId": "551e9b19-d1fe-42fd-9bd1-657085d1b5d2"
      },
      "execution_count": 17,
      "outputs": [
        {
          "output_type": "execute_result",
          "data": {
            "text/plain": [
              "3 - COMIRNATY (PFIZER)                               1402649\n",
              "2 - CHADOX1NCOV-19 - OXFORD/ASTRAZENECA (FIOCRUZ)    1078715\n",
              "1 - CORONAVAC - SINOVAC (BUTANTAN)                    785983\n",
              "4 - JANSSEN COVID-19 VACCINE (JOHNSON & JOHNSON)       93473\n",
              "5 - COMIRNATY (PFIZER) - PEDIÁTRICA                    39922\n",
              "6 - CORONAVAC - SINOVAC (BUTANTAN) PEDIÁTRICA           6555\n",
              "Name: vacina, dtype: int64"
            ]
          },
          "metadata": {},
          "execution_count": 17
        }
      ]
    },
    {
      "cell_type": "code",
      "source": [
        "df_vacina.value_counts().plot(kind='pie')"
      ],
      "metadata": {
        "colab": {
          "base_uri": "https://localhost:8080/",
          "height": 266
        },
        "id": "k1_VJmJUv8jd",
        "outputId": "201b88e2-2d04-4e09-a8d3-d905b37a3be0"
      },
      "execution_count": 29,
      "outputs": [
        {
          "output_type": "execute_result",
          "data": {
            "text/plain": [
              "<matplotlib.axes._subplots.AxesSubplot at 0x7f264f694a10>"
            ]
          },
          "metadata": {},
          "execution_count": 29
        },
        {
          "output_type": "display_data",
          "data": {
            "text/plain": [
              "<Figure size 432x288 with 1 Axes>"
            ],
            "image/png": "[encoded data removed]"
          },
          "metadata": {}
        }
      ]
    },
    {
      "cell_type": "code",
      "source": [
        "df_data = df['data_vacinacao']"
      ],
      "metadata": {
        "id": "UodIJp31yZ0b"
      },
      "execution_count": 30,
      "outputs": []
    }
  ]
}